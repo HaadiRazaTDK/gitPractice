{
 "cells": [
  {
   "cell_type": "code",
   "execution_count": 1,
   "id": "3ef3dc76",
   "metadata": {},
   "outputs": [],
   "source": [
    "import csv\n",
    "import networkx as nx\n",
    "import matplotlib.pyplot as plt"
   ]
  },
  {
   "cell_type": "code",
   "execution_count": 2,
   "id": "402429c2",
   "metadata": {},
   "outputs": [],
   "source": [
    "csv_file = 'path.csv' \n",
    "edges = []"
   ]
  },
  {
   "cell_type": "code",
   "execution_count": 3,
   "id": "b4ff44c2",
   "metadata": {},
   "outputs": [],
   "source": [
    "with open(csv_file, 'r') as file:\n",
    "    reader = csv.reader(file)\n",
    "    next(reader) \n",
    "    for row in reader:\n",
    "        edges.append((row[0], row[1]))"
   ]
  },
  {
   "cell_type": "code",
   "execution_count": 4,
   "id": "2b9c86f8",
   "metadata": {},
   "outputs": [],
   "source": [
    "G = nx.Graph()\n",
    "G.add_edges_from(edges)"
   ]
  },
  {
   "cell_type": "code",
   "execution_count": 5,
   "id": "5b8bfc4a",
   "metadata": {},
   "outputs": [
    {
     "data": {
      "image/png": "[encoded data removed]",
      "text/plain": [
       "<Figure size 640x480 with 1 Axes>"
      ]
     },
     "metadata": {},
     "output_type": "display_data"
    }
   ],
   "source": [
    "fig, ax = plt.subplots()\n",
    "\n",
    "pos = nx.spring_layout(G)  \n",
    "nx.draw(G, pos, with_labels=True, node_size=500, node_color='lightblue', edge_color='gray', width=1.0, ax=ax)\n",
    "ax.set_title('CSV Data Visualization')\n",
    "\n",
    "plt.show()"
   ]
  },
  {
   "cell_type": "code",
   "execution_count": 6,
   "id": "6e0ee359",
   "metadata": {},
   "outputs": [],
   "source": [
    "import csv\n",
    "from collections import deque"
   ]
  },
  {
   "cell_type": "code",
   "execution_count": 7,
   "id": "44d5d54d",
   "metadata": {},
   "outputs": [],
   "source": [
    "def dfs(csv_file, start_node):\n",
    "    stack = [start_node]\n",
    "    visited = set()\n",
    "\n",
    "    while stack:\n",
    "        current_node = stack.pop()\n",
    "        if current_node in visited:\n",
    "            continue\n",
    "\n",
    "        visited.add(current_node)\n",
    "        print(current_node)\n",
    "n\n",
    "       \n",
    "        adjacent_nodes = get_adjacent_nodes(csv_file, current_node)\n",
    "\n",
    "        stack.extend(node for node in adjacent_nodes if node not in visited)"
   ]
  },
  {
   "cell_type": "code",
   "execution_count": 8,
   "id": "a33df6b7",
   "metadata": {},
   "outputs": [],
   "source": [
    "def bfs(csv_file, start_node):\n",
    "    queue = deque([start_node])\n",
    "    visited = set()\n",
    "\n",
    "    while queue:\n",
    "        current_node = queue.popleft()\n",
    "        if current_node in visited:\n",
    "            continue\n",
    "\n",
    "        visited.add(current_node)\n",
    "        print(current_node)\n",
    "\n",
    "       \n",
    "        adjacent_nodes = get_adjacent_nodes(csv_file, current_node)\n",
    "\n",
    "       \n",
    "        queue.extend(node for node in adjacent_nodes if node not in visited)"
   ]
  },
  {
   "cell_type": "code",
   "execution_count": 9,
   "id": "7f9270d0",
   "metadata": {},
   "outputs": [],
   "source": [
    "def get_adjacent_nodes(csv_file, node):\n",
    "    adjacent_nodes = []\n",
    "    with open(csv_file, 'r') as file:\n",
    "        reader = csv.reader(file)\n",
    "        for row in reader:\n",
    "            if row[0] == node:\n",
    "                adjacent_nodes.append(row[1])\n",
    "    return adjacent_nodes"
   ]
  },
  {
   "cell_type": "code",
   "execution_count": 10,
   "id": "cf1b4334",
   "metadata": {},
   "outputs": [
    {
     "name": "stdout",
     "output_type": "stream",
     "text": [
      "DFS:\n",
      "A\n",
      "D\n",
      "G\n",
      "H\n",
      "I\n",
      "K\n",
      "L\n",
      "M\n",
      "O\n",
      "P\n",
      "Q\n",
      "S\n",
      "T\n",
      "U\n",
      "V\n",
      "W\n",
      "X\n",
      "Y\n",
      "Z\n",
      "R\n",
      "N\n",
      "J\n",
      "C\n",
      "F\n",
      "B\n",
      "E\n",
      "\n",
      "\n",
      "\n",
      "\n",
      "\n",
      "BFS:\n",
      "A\n",
      "B\n",
      "C\n",
      "D\n",
      "E\n",
      "F\n",
      "G\n",
      "H\n",
      "I\n",
      "J\n",
      "K\n",
      "L\n",
      "M\n",
      "N\n",
      "O\n",
      "P\n",
      "Q\n",
      "R\n",
      "S\n",
      "T\n",
      "U\n",
      "V\n",
      "W\n",
      "X\n",
      "Y\n",
      "Z\n"
     ]
    }
   ],
   "source": [
    "csv_file = 'path.csv'  \n",
    "start_node = 'A' \n",
    "\n",
    "print('DFS:')\n",
    "dfs(csv_file, start_node)\n",
    "\n",
    "print('\\n\\n\\n\\n\\nBFS:')\n",
    "bfs(csv_file, start_node)"
   ]
  },
  {
   "cell_type": "code",
   "execution_count": null,
   "id": "5fb2bd37",
   "metadata": {},
   "outputs": [],
   "source": []
  }
 ],
 "metadata": {
  "kernelspec": {
   "display_name": "Python 3",
   "language": "python",
   "name": "python3"
  },
  "language_info": {
   "codemirror_mode": {
    "name": "ipython",
    "version": 3
   },
   "file_extension": ".py",
   "mimetype": "text/x-python",
   "name": "python",
   "nbconvert_exporter": "python",
   "pygments_lexer": "ipython3",
   "version": "3.10.9"
  }
 },
 "nbformat": 4,
 "nbformat_minor": 5
}
